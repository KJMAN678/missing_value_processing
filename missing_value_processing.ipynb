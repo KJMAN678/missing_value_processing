{
  "nbformat": 4,
  "nbformat_minor": 0,
  "metadata": {
    "colab": {
      "name": "missing_value_processing.ipynb",
      "provenance": [],
      "collapsed_sections": []
    },
    "kernelspec": {
      "name": "python3",
      "display_name": "Python 3"
    }
  },
  "cells": [
    {
      "cell_type": "code",
      "metadata": {
        "colab": {
          "base_uri": "https://localhost:8080/",
          "height": 904
        },
        "id": "kF0xHZ0a9rI0",
        "outputId": "3cda4f1d-424f-452f-9d47-f23ae4c7300c"
      },
      "source": [
        "!pip install datawig"
      ],
      "execution_count": 1,
      "outputs": [
        {
          "output_type": "stream",
          "text": [
            "Requirement already satisfied: datawig in /usr/local/lib/python3.7/dist-packages (0.2.0)\n",
            "Requirement already satisfied: mxnet==1.4.0 in /usr/local/lib/python3.7/dist-packages (from datawig) (1.4.0)\n",
            "Requirement already satisfied: scikit-learn[alldeps]==0.22.1 in /usr/local/lib/python3.7/dist-packages (from datawig) (0.22.1)\n",
            "Requirement already satisfied: pandas==0.25.3 in /usr/local/lib/python3.7/dist-packages (from datawig) (0.25.3)\n",
            "Requirement already satisfied: typing==3.6.6 in /usr/local/lib/python3.7/dist-packages (from datawig) (3.6.6)\n",
            "Collecting numpy<1.15.0,>=1.8.2\n",
            "\u001b[?25l  Downloading https://files.pythonhosted.org/packages/18/84/49b7f268741119328aeee0802aafb9bc2e164b36fc312daf83af95dae646/numpy-1.14.6-cp37-cp37m-manylinux1_x86_64.whl (13.8MB)\n",
            "\u001b[K     |████████████████████████████████| 13.8MB 326kB/s \n",
            "\u001b[?25hRequirement already satisfied: requests>=2.20.0 in /usr/local/lib/python3.7/dist-packages (from mxnet==1.4.0->datawig) (2.23.0)\n",
            "Requirement already satisfied: graphviz<0.9.0,>=0.8.1 in /usr/local/lib/python3.7/dist-packages (from mxnet==1.4.0->datawig) (0.8.4)\n",
            "Requirement already satisfied: scipy>=0.17.0 in /usr/local/lib/python3.7/dist-packages (from scikit-learn[alldeps]==0.22.1->datawig) (1.4.1)\n",
            "Requirement already satisfied: joblib>=0.11 in /usr/local/lib/python3.7/dist-packages (from scikit-learn[alldeps]==0.22.1->datawig) (1.0.1)\n",
            "Requirement already satisfied: pytz>=2017.2 in /usr/local/lib/python3.7/dist-packages (from pandas==0.25.3->datawig) (2018.9)\n",
            "Requirement already satisfied: python-dateutil>=2.6.1 in /usr/local/lib/python3.7/dist-packages (from pandas==0.25.3->datawig) (2.8.1)\n",
            "Requirement already satisfied: idna<3,>=2.5 in /usr/local/lib/python3.7/dist-packages (from requests>=2.20.0->mxnet==1.4.0->datawig) (2.10)\n",
            "Requirement already satisfied: urllib3!=1.25.0,!=1.25.1,<1.26,>=1.21.1 in /usr/local/lib/python3.7/dist-packages (from requests>=2.20.0->mxnet==1.4.0->datawig) (1.24.3)\n",
            "Requirement already satisfied: certifi>=2017.4.17 in /usr/local/lib/python3.7/dist-packages (from requests>=2.20.0->mxnet==1.4.0->datawig) (2020.12.5)\n",
            "Requirement already satisfied: chardet<4,>=3.0.2 in /usr/local/lib/python3.7/dist-packages (from requests>=2.20.0->mxnet==1.4.0->datawig) (3.0.4)\n",
            "Requirement already satisfied: six>=1.5 in /usr/local/lib/python3.7/dist-packages (from python-dateutil>=2.6.1->pandas==0.25.3->datawig) (1.15.0)\n",
            "\u001b[31mERROR: xarray 0.15.1 has requirement numpy>=1.15, but you'll have numpy 1.14.6 which is incompatible.\u001b[0m\n",
            "\u001b[31mERROR: umap-learn 0.5.1 has requirement numpy>=1.17, but you'll have numpy 1.14.6 which is incompatible.\u001b[0m\n",
            "\u001b[31mERROR: tifffile 2021.2.1 has requirement numpy>=1.15.1, but you'll have numpy 1.14.6 which is incompatible.\u001b[0m\n",
            "\u001b[31mERROR: tensorflow 2.4.1 has requirement numpy~=1.19.2, but you'll have numpy 1.14.6 which is incompatible.\u001b[0m\n",
            "\u001b[31mERROR: spacy 2.2.4 has requirement numpy>=1.15.0, but you'll have numpy 1.14.6 which is incompatible.\u001b[0m\n",
            "\u001b[31mERROR: seaborn 0.11.1 has requirement numpy>=1.15, but you'll have numpy 1.14.6 which is incompatible.\u001b[0m\n",
            "\u001b[31mERROR: pyerfa 1.7.2 has requirement numpy>=1.16, but you'll have numpy 1.14.6 which is incompatible.\u001b[0m\n",
            "\u001b[31mERROR: pyarrow 3.0.0 has requirement numpy>=1.16.6, but you'll have numpy 1.14.6 which is incompatible.\u001b[0m\n",
            "\u001b[31mERROR: plotnine 0.6.0 has requirement numpy>=1.16.0, but you'll have numpy 1.14.6 which is incompatible.\u001b[0m\n",
            "\u001b[31mERROR: numba 0.51.2 has requirement numpy>=1.15, but you'll have numpy 1.14.6 which is incompatible.\u001b[0m\n",
            "\u001b[31mERROR: librosa 0.8.0 has requirement numpy>=1.15.0, but you'll have numpy 1.14.6 which is incompatible.\u001b[0m\n",
            "\u001b[31mERROR: imgaug 0.2.9 has requirement numpy>=1.15.0, but you'll have numpy 1.14.6 which is incompatible.\u001b[0m\n",
            "\u001b[31mERROR: google-colab 1.0.0 has requirement pandas~=1.1.0; python_version >= \"3.0\", but you'll have pandas 0.25.3 which is incompatible.\u001b[0m\n",
            "\u001b[31mERROR: fbprophet 0.7.1 has requirement numpy>=1.15.4, but you'll have numpy 1.14.6 which is incompatible.\u001b[0m\n",
            "\u001b[31mERROR: fbprophet 0.7.1 has requirement pandas>=1.0.4, but you'll have pandas 0.25.3 which is incompatible.\u001b[0m\n",
            "\u001b[31mERROR: fastai 1.0.61 has requirement numpy>=1.15, but you'll have numpy 1.14.6 which is incompatible.\u001b[0m\n",
            "\u001b[31mERROR: datascience 0.10.6 has requirement folium==0.2.1, but you'll have folium 0.8.3 which is incompatible.\u001b[0m\n",
            "\u001b[31mERROR: cvxpy 1.0.31 has requirement numpy>=1.15, but you'll have numpy 1.14.6 which is incompatible.\u001b[0m\n",
            "\u001b[31mERROR: blis 0.4.1 has requirement numpy>=1.15.0, but you'll have numpy 1.14.6 which is incompatible.\u001b[0m\n",
            "\u001b[31mERROR: astropy 4.2 has requirement numpy>=1.17, but you'll have numpy 1.14.6 which is incompatible.\u001b[0m\n",
            "\u001b[31mERROR: albumentations 0.1.12 has requirement imgaug<0.2.7,>=0.2.5, but you'll have imgaug 0.2.9 which is incompatible.\u001b[0m\n",
            "Installing collected packages: numpy\n",
            "  Found existing installation: numpy 1.19.5\n",
            "    Uninstalling numpy-1.19.5:\n",
            "      Successfully uninstalled numpy-1.19.5\n",
            "Successfully installed numpy-1.14.6\n"
          ],
          "name": "stdout"
        },
        {
          "output_type": "display_data",
          "data": {
            "application/vnd.colab-display-data+json": {
              "pip_warning": {
                "packages": [
                  "numpy"
                ]
              }
            }
          },
          "metadata": {
            "tags": []
          }
        }
      ]
    },
    {
      "cell_type": "markdown",
      "metadata": {
        "id": "f2dyzx8D-rUI"
      },
      "source": [
        "### ライブラリのインポート"
      ]
    },
    {
      "cell_type": "code",
      "metadata": {
        "id": "Eh43Xa3w9uN9"
      },
      "source": [
        "import pandas as pd\r\n",
        "import datawig\r\n",
        "import os\r\n",
        "import random\r\n",
        "import numpy as np\r\n",
        "import matplotlib.pyplot as plt\r\n",
        "\r\n",
        "from sklearn import preprocessing\r\n",
        "from sklearn.model_selection import train_test_split\r\n",
        "from sklearn.metrics import f1_score\r\n",
        "from sklearn.metrics import r2_score"
      ],
      "execution_count": 2,
      "outputs": []
    },
    {
      "cell_type": "markdown",
      "metadata": {
        "id": "AmZUx8NKedy8"
      },
      "source": [
        "### シード値の固定"
      ]
    },
    {
      "cell_type": "code",
      "metadata": {
        "id": "WfP_jho4ed8F"
      },
      "source": [
        "SEED = 42\r\n",
        "\r\n",
        "random.seed(SEED)"
      ],
      "execution_count": 3,
      "outputs": []
    },
    {
      "cell_type": "markdown",
      "metadata": {
        "id": "FvOg78zDeepG"
      },
      "source": [
        "### データの作成"
      ]
    },
    {
      "cell_type": "code",
      "metadata": {
        "id": "SUagqH3R9sLu"
      },
      "source": [
        "url = \"https://raw.githubusercontent.com/mwaskom/seaborn-data/master/raw/titanic.csv\"\r\n",
        "\r\n",
        "df = pd.read_csv(url, encoding=\"utf-8\")"
      ],
      "execution_count": 4,
      "outputs": []
    },
    {
      "cell_type": "code",
      "metadata": {
        "colab": {
          "base_uri": "https://localhost:8080/"
        },
        "id": "VvWw-LjdQQ3F",
        "outputId": "ee18436f-ab90-450d-f7cb-603e1a9ba999"
      },
      "source": [
        "df.isnull().sum()"
      ],
      "execution_count": 5,
      "outputs": [
        {
          "output_type": "execute_result",
          "data": {
            "text/plain": [
              "survived      0\n",
              "pclass        0\n",
              "name          0\n",
              "sex           0\n",
              "age         177\n",
              "sibsp         0\n",
              "parch         0\n",
              "ticket        0\n",
              "fare          0\n",
              "cabin       687\n",
              "embarked      2\n",
              "dtype: int64"
            ]
          },
          "metadata": {
            "tags": []
          },
          "execution_count": 5
        }
      ]
    },
    {
      "cell_type": "code",
      "metadata": {
        "colab": {
          "base_uri": "https://localhost:8080/",
          "height": 197
        },
        "id": "WVegciGp9tBG",
        "outputId": "9a76febc-a1ee-4b1b-c588-cf82b105022c"
      },
      "source": [
        "df.head()"
      ],
      "execution_count": 6,
      "outputs": [
        {
          "output_type": "execute_result",
          "data": {
            "text/html": [
              "<div>\n",
              "<style scoped>\n",
              "    .dataframe tbody tr th:only-of-type {\n",
              "        vertical-align: middle;\n",
              "    }\n",
              "\n",
              "    .dataframe tbody tr th {\n",
              "        vertical-align: top;\n",
              "    }\n",
              "\n",
              "    .dataframe thead th {\n",
              "        text-align: right;\n",
              "    }\n",
              "</style>\n",
              "<table border=\"1\" class=\"dataframe\">\n",
              "  <thead>\n",
              "    <tr style=\"text-align: right;\">\n",
              "      <th></th>\n",
              "      <th>survived</th>\n",
              "      <th>pclass</th>\n",
              "      <th>name</th>\n",
              "      <th>sex</th>\n",
              "      <th>age</th>\n",
              "      <th>sibsp</th>\n",
              "      <th>parch</th>\n",
              "      <th>ticket</th>\n",
              "      <th>fare</th>\n",
              "      <th>cabin</th>\n",
              "      <th>embarked</th>\n",
              "    </tr>\n",
              "  </thead>\n",
              "  <tbody>\n",
              "    <tr>\n",
              "      <th>0</th>\n",
              "      <td>0</td>\n",
              "      <td>3</td>\n",
              "      <td>Braund, Mr. Owen Harris</td>\n",
              "      <td>male</td>\n",
              "      <td>22.0</td>\n",
              "      <td>1</td>\n",
              "      <td>0</td>\n",
              "      <td>A/5 21171</td>\n",
              "      <td>7.2500</td>\n",
              "      <td>NaN</td>\n",
              "      <td>S</td>\n",
              "    </tr>\n",
              "    <tr>\n",
              "      <th>1</th>\n",
              "      <td>1</td>\n",
              "      <td>1</td>\n",
              "      <td>Cumings, Mrs. John Bradley (Florence Briggs Th...</td>\n",
              "      <td>female</td>\n",
              "      <td>38.0</td>\n",
              "      <td>1</td>\n",
              "      <td>0</td>\n",
              "      <td>PC 17599</td>\n",
              "      <td>71.2833</td>\n",
              "      <td>C85</td>\n",
              "      <td>C</td>\n",
              "    </tr>\n",
              "    <tr>\n",
              "      <th>2</th>\n",
              "      <td>1</td>\n",
              "      <td>3</td>\n",
              "      <td>Heikkinen, Miss. Laina</td>\n",
              "      <td>female</td>\n",
              "      <td>26.0</td>\n",
              "      <td>0</td>\n",
              "      <td>0</td>\n",
              "      <td>STON/O2. 3101282</td>\n",
              "      <td>7.9250</td>\n",
              "      <td>NaN</td>\n",
              "      <td>S</td>\n",
              "    </tr>\n",
              "    <tr>\n",
              "      <th>3</th>\n",
              "      <td>1</td>\n",
              "      <td>1</td>\n",
              "      <td>Futrelle, Mrs. Jacques Heath (Lily May Peel)</td>\n",
              "      <td>female</td>\n",
              "      <td>35.0</td>\n",
              "      <td>1</td>\n",
              "      <td>0</td>\n",
              "      <td>113803</td>\n",
              "      <td>53.1000</td>\n",
              "      <td>C123</td>\n",
              "      <td>S</td>\n",
              "    </tr>\n",
              "    <tr>\n",
              "      <th>4</th>\n",
              "      <td>0</td>\n",
              "      <td>3</td>\n",
              "      <td>Allen, Mr. William Henry</td>\n",
              "      <td>male</td>\n",
              "      <td>35.0</td>\n",
              "      <td>0</td>\n",
              "      <td>0</td>\n",
              "      <td>373450</td>\n",
              "      <td>8.0500</td>\n",
              "      <td>NaN</td>\n",
              "      <td>S</td>\n",
              "    </tr>\n",
              "  </tbody>\n",
              "</table>\n",
              "</div>"
            ],
            "text/plain": [
              "   survived  pclass  ... cabin embarked\n",
              "0         0       3  ...   NaN        S\n",
              "1         1       1  ...   C85        C\n",
              "2         1       3  ...   NaN        S\n",
              "3         1       1  ...  C123        S\n",
              "4         0       3  ...   NaN        S\n",
              "\n",
              "[5 rows x 11 columns]"
            ]
          },
          "metadata": {
            "tags": []
          },
          "execution_count": 6
        }
      ]
    },
    {
      "cell_type": "code",
      "metadata": {
        "id": "9rzxdvgQLAyL"
      },
      "source": [
        "train, test = train_test_split(df, test_size=0.3)"
      ],
      "execution_count": 7,
      "outputs": []
    },
    {
      "cell_type": "markdown",
      "metadata": {
        "id": "6ATpGlm4pDId"
      },
      "source": [
        "### パラメータ"
      ]
    },
    {
      "cell_type": "code",
      "metadata": {
        "id": "aEI0cXoZmNx5"
      },
      "source": [
        "INPUT_COLUMNS = ['name', \"sex\", \"sibsp\", \"parch\", \"fare\", \"survived\"]\r\n",
        "EPOCH = 1000"
      ],
      "execution_count": 8,
      "outputs": []
    },
    {
      "cell_type": "markdown",
      "metadata": {
        "id": "4tgzpr96bCJk"
      },
      "source": [
        "## embarked の欠損値処理"
      ]
    },
    {
      "cell_type": "code",
      "metadata": {
        "id": "kEzxiEsQbk0T"
      },
      "source": [
        "# 学習結果を保存するパスの作成\r\n",
        "FILE_PATH = \"imputer_model_embarked\"\r\n",
        "\r\n",
        "if os.path.isdir(FILE_PATH):\r\n",
        "    pass\r\n",
        "else:\r\n",
        "    os.mkdir(FILE_PATH)"
      ],
      "execution_count": 9,
      "outputs": []
    },
    {
      "cell_type": "code",
      "metadata": {
        "id": "zwgEyoJ2OjSs"
      },
      "source": [
        "imputer = datawig.SimpleImputer(\r\n",
        "    input_columns=INPUT_COLUMNS,\r\n",
        "    output_column='embarked',\r\n",
        "    output_path = FILE_PATH\r\n",
        ")"
      ],
      "execution_count": 10,
      "outputs": []
    },
    {
      "cell_type": "code",
      "metadata": {
        "colab": {
          "base_uri": "https://localhost:8080/"
        },
        "id": "FLi0uJbTOjbw",
        "outputId": "5f61cc2c-2824-4984-84b3-b1418cd81238"
      },
      "source": [
        "# 学習\r\n",
        "imputer.fit(\r\n",
        "    train_df=train,\r\n",
        "    num_epochs=EPOCH\r\n",
        "    )"
      ],
      "execution_count": 11,
      "outputs": [
        {
          "output_type": "stream",
          "text": [
            "2021-02-27 13:20:15,038 [INFO]  CategoricalEncoder for column embarked                                found only 96 occurrences of value C\n",
            "2021-02-27 13:20:15,040 [INFO]  CategoricalEncoder for column embarked                                found only 52 occurrences of value Q\n",
            "/usr/local/lib/python3.7/dist-packages/pandas/core/frame.py:3509: SettingWithCopyWarning: \n",
            "A value is trying to be set on a copy of a slice from a DataFrame.\n",
            "Try using .loc[row_indexer,col_indexer] = value instead\n",
            "\n",
            "See the caveats in the documentation: http://pandas.pydata.org/pandas-docs/stable/user_guide/indexing.html#returning-a-view-versus-a-copy\n",
            "  self[k1] = value[k2]\n",
            "2021-02-27 13:20:15,081 [INFO]  NumExpr defaulting to 2 threads.\n",
            "2021-02-27 13:20:15,264 [INFO]  \n",
            "========== start: fit model\n",
            "2021-02-27 13:20:15,266 [WARNING]  Already bound, ignoring bind()\n",
            "2021-02-27 13:20:15,634 [INFO]  Epoch[0] Batch [0-18]\tSpeed: 850.56 samples/sec\tcross-entropy=0.896939\tembarked-accuracy=0.694079\n",
            "2021-02-27 13:20:15,953 [INFO]  Epoch[0] Train-cross-entropy=0.761021\n",
            "2021-02-27 13:20:15,957 [INFO]  Epoch[0] Train-embarked-accuracy=0.728571\n",
            "2021-02-27 13:20:15,959 [INFO]  Epoch[0] Time cost=0.690\n",
            "2021-02-27 13:20:15,965 [INFO]  Saved checkpoint to \"imputer_model_embarked/model-0000.params\"\n",
            "2021-02-27 13:20:16,032 [INFO]  Epoch[0] Validation-cross-entropy=0.594222\n",
            "2021-02-27 13:20:16,033 [INFO]  Epoch[0] Validation-embarked-accuracy=0.718750\n",
            "2021-02-27 13:20:16,412 [INFO]  Epoch[1] Batch [0-18]\tSpeed: 812.96 samples/sec\tcross-entropy=0.635721\tembarked-accuracy=0.730263\n",
            "2021-02-27 13:20:16,714 [INFO]  Epoch[1] Train-cross-entropy=0.582977\n",
            "2021-02-27 13:20:16,715 [INFO]  Epoch[1] Train-embarked-accuracy=0.751786\n",
            "2021-02-27 13:20:16,716 [INFO]  Epoch[1] Time cost=0.682\n",
            "2021-02-27 13:20:16,722 [INFO]  Saved checkpoint to \"imputer_model_embarked/model-0001.params\"\n",
            "2021-02-27 13:20:16,788 [INFO]  Epoch[1] Validation-cross-entropy=0.579585\n",
            "2021-02-27 13:20:16,789 [INFO]  Epoch[1] Validation-embarked-accuracy=0.734375\n",
            "2021-02-27 13:20:17,152 [INFO]  Epoch[2] Batch [0-18]\tSpeed: 846.78 samples/sec\tcross-entropy=0.552240\tembarked-accuracy=0.736842\n",
            "2021-02-27 13:20:17,474 [INFO]  Epoch[2] Train-cross-entropy=0.509818\n",
            "2021-02-27 13:20:17,476 [INFO]  Epoch[2] Train-embarked-accuracy=0.766071\n",
            "2021-02-27 13:20:17,477 [INFO]  Epoch[2] Time cost=0.687\n",
            "2021-02-27 13:20:17,483 [INFO]  Saved checkpoint to \"imputer_model_embarked/model-0002.params\"\n",
            "2021-02-27 13:20:17,552 [INFO]  Epoch[2] Validation-cross-entropy=0.571106\n",
            "2021-02-27 13:20:17,554 [INFO]  Epoch[2] Validation-embarked-accuracy=0.734375\n",
            "2021-02-27 13:20:17,921 [INFO]  Epoch[3] Batch [0-18]\tSpeed: 840.10 samples/sec\tcross-entropy=0.490248\tembarked-accuracy=0.759868\n",
            "2021-02-27 13:20:18,232 [INFO]  Epoch[3] Train-cross-entropy=0.453034\n",
            "2021-02-27 13:20:18,233 [INFO]  Epoch[3] Train-embarked-accuracy=0.796429\n",
            "2021-02-27 13:20:18,235 [INFO]  Epoch[3] Time cost=0.679\n",
            "2021-02-27 13:20:18,240 [INFO]  Saved checkpoint to \"imputer_model_embarked/model-0003.params\"\n",
            "2021-02-27 13:20:18,307 [INFO]  Epoch[3] Validation-cross-entropy=0.559432\n",
            "2021-02-27 13:20:18,309 [INFO]  Epoch[3] Validation-embarked-accuracy=0.734375\n",
            "2021-02-27 13:20:18,678 [INFO]  Epoch[4] Batch [0-18]\tSpeed: 833.93 samples/sec\tcross-entropy=0.438864\tembarked-accuracy=0.789474\n",
            "2021-02-27 13:20:18,985 [INFO]  Epoch[4] Train-cross-entropy=0.405871\n",
            "2021-02-27 13:20:18,990 [INFO]  Epoch[4] Train-embarked-accuracy=0.823214\n",
            "2021-02-27 13:20:18,995 [INFO]  Epoch[4] Time cost=0.685\n",
            "2021-02-27 13:20:19,005 [INFO]  Saved checkpoint to \"imputer_model_embarked/model-0004.params\"\n",
            "2021-02-27 13:20:19,071 [INFO]  Epoch[4] Validation-cross-entropy=0.548744\n",
            "2021-02-27 13:20:19,072 [INFO]  Epoch[4] Validation-embarked-accuracy=0.734375\n",
            "2021-02-27 13:20:19,445 [INFO]  Epoch[5] Batch [0-18]\tSpeed: 836.02 samples/sec\tcross-entropy=0.395461\tembarked-accuracy=0.809211\n",
            "2021-02-27 13:20:19,750 [INFO]  Epoch[5] Train-cross-entropy=0.366223\n",
            "2021-02-27 13:20:19,751 [INFO]  Epoch[5] Train-embarked-accuracy=0.837500\n",
            "2021-02-27 13:20:19,753 [INFO]  Epoch[5] Time cost=0.679\n",
            "2021-02-27 13:20:19,764 [INFO]  Saved checkpoint to \"imputer_model_embarked/model-0005.params\"\n",
            "2021-02-27 13:20:19,828 [INFO]  Epoch[5] Validation-cross-entropy=0.538715\n",
            "2021-02-27 13:20:19,829 [INFO]  Epoch[5] Validation-embarked-accuracy=0.750000\n",
            "2021-02-27 13:20:20,191 [INFO]  Epoch[6] Batch [0-18]\tSpeed: 850.62 samples/sec\tcross-entropy=0.358498\tembarked-accuracy=0.828947\n",
            "2021-02-27 13:20:20,499 [INFO]  Epoch[6] Train-cross-entropy=0.332265\n",
            "2021-02-27 13:20:20,503 [INFO]  Epoch[6] Train-embarked-accuracy=0.853571\n",
            "2021-02-27 13:20:20,504 [INFO]  Epoch[6] Time cost=0.674\n",
            "2021-02-27 13:20:20,510 [INFO]  Saved checkpoint to \"imputer_model_embarked/model-0006.params\"\n",
            "2021-02-27 13:20:20,575 [INFO]  Epoch[6] Validation-cross-entropy=0.529437\n",
            "2021-02-27 13:20:20,576 [INFO]  Epoch[6] Validation-embarked-accuracy=0.750000\n",
            "2021-02-27 13:20:20,951 [INFO]  Epoch[7] Batch [0-18]\tSpeed: 827.05 samples/sec\tcross-entropy=0.326601\tembarked-accuracy=0.861842\n",
            "2021-02-27 13:20:21,277 [INFO]  Epoch[7] Train-cross-entropy=0.302976\n",
            "2021-02-27 13:20:21,279 [INFO]  Epoch[7] Train-embarked-accuracy=0.883929\n",
            "2021-02-27 13:20:21,285 [INFO]  Epoch[7] Time cost=0.703\n",
            "2021-02-27 13:20:21,295 [INFO]  Saved checkpoint to \"imputer_model_embarked/model-0007.params\"\n",
            "2021-02-27 13:20:21,358 [INFO]  Epoch[7] Validation-cross-entropy=0.520245\n",
            "2021-02-27 13:20:21,360 [INFO]  Epoch[7] Validation-embarked-accuracy=0.750000\n",
            "2021-02-27 13:20:21,724 [INFO]  Epoch[8] Batch [0-18]\tSpeed: 847.80 samples/sec\tcross-entropy=0.298534\tembarked-accuracy=0.881579\n",
            "2021-02-27 13:20:22,027 [INFO]  Epoch[8] Train-cross-entropy=0.277422\n",
            "2021-02-27 13:20:22,028 [INFO]  Epoch[8] Train-embarked-accuracy=0.894643\n",
            "2021-02-27 13:20:22,033 [INFO]  Epoch[8] Time cost=0.668\n",
            "2021-02-27 13:20:22,040 [INFO]  Saved checkpoint to \"imputer_model_embarked/model-0008.params\"\n",
            "2021-02-27 13:20:22,105 [INFO]  Epoch[8] Validation-cross-entropy=0.512875\n",
            "2021-02-27 13:20:22,107 [INFO]  Epoch[8] Validation-embarked-accuracy=0.750000\n",
            "2021-02-27 13:20:22,481 [INFO]  Epoch[9] Batch [0-18]\tSpeed: 835.96 samples/sec\tcross-entropy=0.273993\tembarked-accuracy=0.901316\n",
            "2021-02-27 13:20:22,791 [INFO]  Epoch[9] Train-cross-entropy=0.254876\n",
            "2021-02-27 13:20:22,792 [INFO]  Epoch[9] Train-embarked-accuracy=0.919643\n",
            "2021-02-27 13:20:22,794 [INFO]  Epoch[9] Time cost=0.680\n",
            "2021-02-27 13:20:22,804 [INFO]  Saved checkpoint to \"imputer_model_embarked/model-0009.params\"\n",
            "2021-02-27 13:20:22,868 [INFO]  Epoch[9] Validation-cross-entropy=0.505553\n",
            "2021-02-27 13:20:22,870 [INFO]  Epoch[9] Validation-embarked-accuracy=0.750000\n",
            "2021-02-27 13:20:23,245 [INFO]  Epoch[10] Batch [0-18]\tSpeed: 823.40 samples/sec\tcross-entropy=0.252436\tembarked-accuracy=0.921053\n",
            "2021-02-27 13:20:23,554 [INFO]  Epoch[10] Train-cross-entropy=0.235179\n",
            "2021-02-27 13:20:23,555 [INFO]  Epoch[10] Train-embarked-accuracy=0.935714\n",
            "2021-02-27 13:20:23,560 [INFO]  Epoch[10] Time cost=0.687\n",
            "2021-02-27 13:20:23,569 [INFO]  Saved checkpoint to \"imputer_model_embarked/model-0010.params\"\n",
            "2021-02-27 13:20:23,634 [INFO]  Epoch[10] Validation-cross-entropy=0.498815\n",
            "2021-02-27 13:20:23,635 [INFO]  Epoch[10] Validation-embarked-accuracy=0.750000\n",
            "2021-02-27 13:20:24,010 [INFO]  Epoch[11] Batch [0-18]\tSpeed: 824.91 samples/sec\tcross-entropy=0.233077\tembarked-accuracy=0.940789\n",
            "2021-02-27 13:20:24,329 [INFO]  Epoch[11] Train-cross-entropy=0.217496\n",
            "2021-02-27 13:20:24,331 [INFO]  Epoch[11] Train-embarked-accuracy=0.950000\n",
            "2021-02-27 13:20:24,332 [INFO]  Epoch[11] Time cost=0.690\n",
            "2021-02-27 13:20:24,342 [INFO]  Saved checkpoint to \"imputer_model_embarked/model-0011.params\"\n",
            "2021-02-27 13:20:24,405 [INFO]  Epoch[11] Validation-cross-entropy=0.492938\n",
            "2021-02-27 13:20:24,406 [INFO]  Epoch[11] Validation-embarked-accuracy=0.750000\n",
            "2021-02-27 13:20:24,769 [INFO]  Epoch[12] Batch [0-18]\tSpeed: 851.69 samples/sec\tcross-entropy=0.215770\tembarked-accuracy=0.957237\n",
            "2021-02-27 13:20:25,077 [INFO]  Epoch[12] Train-cross-entropy=0.201721\n",
            "2021-02-27 13:20:25,079 [INFO]  Epoch[12] Train-embarked-accuracy=0.958929\n",
            "2021-02-27 13:20:25,081 [INFO]  Epoch[12] Time cost=0.673\n",
            "2021-02-27 13:20:25,088 [INFO]  Saved checkpoint to \"imputer_model_embarked/model-0012.params\"\n",
            "2021-02-27 13:20:25,153 [INFO]  Epoch[12] Validation-cross-entropy=0.487263\n",
            "2021-02-27 13:20:25,154 [INFO]  Epoch[12] Validation-embarked-accuracy=0.750000\n",
            "2021-02-27 13:20:25,535 [INFO]  Epoch[13] Batch [0-18]\tSpeed: 814.78 samples/sec\tcross-entropy=0.200360\tembarked-accuracy=0.963816\n",
            "2021-02-27 13:20:25,849 [INFO]  Epoch[13] Train-cross-entropy=0.187644\n",
            "2021-02-27 13:20:25,851 [INFO]  Epoch[13] Train-embarked-accuracy=0.966071\n",
            "2021-02-27 13:20:25,858 [INFO]  Epoch[13] Time cost=0.699\n",
            "2021-02-27 13:20:25,862 [INFO]  Saved checkpoint to \"imputer_model_embarked/model-0013.params\"\n",
            "2021-02-27 13:20:25,929 [INFO]  Epoch[13] Validation-cross-entropy=0.482252\n",
            "2021-02-27 13:20:25,934 [INFO]  Epoch[13] Validation-embarked-accuracy=0.750000\n",
            "2021-02-27 13:20:26,301 [INFO]  Epoch[14] Batch [0-18]\tSpeed: 839.37 samples/sec\tcross-entropy=0.186369\tembarked-accuracy=0.967105\n",
            "2021-02-27 13:20:26,609 [INFO]  Epoch[14] Train-cross-entropy=0.174917\n",
            "2021-02-27 13:20:26,611 [INFO]  Epoch[14] Train-embarked-accuracy=0.969643\n",
            "2021-02-27 13:20:26,618 [INFO]  Epoch[14] Time cost=0.683\n",
            "2021-02-27 13:20:26,626 [INFO]  Saved checkpoint to \"imputer_model_embarked/model-0014.params\"\n",
            "2021-02-27 13:20:26,691 [INFO]  Epoch[14] Validation-cross-entropy=0.477890\n",
            "2021-02-27 13:20:26,692 [INFO]  Epoch[14] Validation-embarked-accuracy=0.765625\n",
            "2021-02-27 13:20:27,060 [INFO]  Epoch[15] Batch [0-18]\tSpeed: 841.67 samples/sec\tcross-entropy=0.173830\tembarked-accuracy=0.976974\n",
            "2021-02-27 13:20:27,374 [INFO]  Epoch[15] Train-cross-entropy=0.163429\n",
            "2021-02-27 13:20:27,375 [INFO]  Epoch[15] Train-embarked-accuracy=0.976786\n",
            "2021-02-27 13:20:27,382 [INFO]  Epoch[15] Time cost=0.684\n",
            "2021-02-27 13:20:27,390 [INFO]  Saved checkpoint to \"imputer_model_embarked/model-0015.params\"\n",
            "2021-02-27 13:20:27,454 [INFO]  Epoch[15] Validation-cross-entropy=0.473840\n",
            "2021-02-27 13:20:27,459 [INFO]  Epoch[15] Validation-embarked-accuracy=0.781250\n",
            "2021-02-27 13:20:27,822 [INFO]  Epoch[16] Batch [0-18]\tSpeed: 846.53 samples/sec\tcross-entropy=0.162391\tembarked-accuracy=0.976974\n",
            "2021-02-27 13:20:28,138 [INFO]  Epoch[16] Train-cross-entropy=0.152989\n",
            "2021-02-27 13:20:28,143 [INFO]  Epoch[16] Train-embarked-accuracy=0.978571\n",
            "2021-02-27 13:20:28,144 [INFO]  Epoch[16] Time cost=0.682\n",
            "2021-02-27 13:20:28,151 [INFO]  Saved checkpoint to \"imputer_model_embarked/model-0016.params\"\n",
            "2021-02-27 13:20:28,221 [INFO]  Epoch[16] Validation-cross-entropy=0.470142\n",
            "2021-02-27 13:20:28,222 [INFO]  Epoch[16] Validation-embarked-accuracy=0.750000\n",
            "2021-02-27 13:20:28,604 [INFO]  Epoch[17] Batch [0-18]\tSpeed: 824.10 samples/sec\tcross-entropy=0.151986\tembarked-accuracy=0.980263\n",
            "2021-02-27 13:20:28,909 [INFO]  Epoch[17] Train-cross-entropy=0.143476\n",
            "2021-02-27 13:20:28,914 [INFO]  Epoch[17] Train-embarked-accuracy=0.982143\n",
            "2021-02-27 13:20:28,917 [INFO]  Epoch[17] Time cost=0.687\n",
            "2021-02-27 13:20:28,926 [INFO]  Saved checkpoint to \"imputer_model_embarked/model-0017.params\"\n",
            "2021-02-27 13:20:28,989 [INFO]  Epoch[17] Validation-cross-entropy=0.467070\n",
            "2021-02-27 13:20:28,990 [INFO]  Epoch[17] Validation-embarked-accuracy=0.750000\n",
            "2021-02-27 13:20:29,364 [INFO]  Epoch[18] Batch [0-18]\tSpeed: 821.55 samples/sec\tcross-entropy=0.142530\tembarked-accuracy=0.986842\n",
            "2021-02-27 13:20:29,669 [INFO]  Epoch[18] Train-cross-entropy=0.134822\n",
            "2021-02-27 13:20:29,671 [INFO]  Epoch[18] Train-embarked-accuracy=0.987500\n",
            "2021-02-27 13:20:29,672 [INFO]  Epoch[18] Time cost=0.680\n",
            "2021-02-27 13:20:29,680 [INFO]  Saved checkpoint to \"imputer_model_embarked/model-0018.params\"\n",
            "2021-02-27 13:20:29,743 [INFO]  Epoch[18] Validation-cross-entropy=0.464578\n",
            "2021-02-27 13:20:29,744 [INFO]  Epoch[18] Validation-embarked-accuracy=0.750000\n",
            "2021-02-27 13:20:30,107 [INFO]  Epoch[19] Batch [0-18]\tSpeed: 848.59 samples/sec\tcross-entropy=0.133886\tembarked-accuracy=0.986842\n",
            "2021-02-27 13:20:30,417 [INFO]  Epoch[19] Train-cross-entropy=0.126876\n",
            "2021-02-27 13:20:30,421 [INFO]  Epoch[19] Train-embarked-accuracy=0.987500\n",
            "2021-02-27 13:20:30,425 [INFO]  Epoch[19] Time cost=0.679\n",
            "2021-02-27 13:20:30,432 [INFO]  Saved checkpoint to \"imputer_model_embarked/model-0019.params\"\n",
            "2021-02-27 13:20:30,498 [INFO]  Epoch[19] Validation-cross-entropy=0.462036\n",
            "2021-02-27 13:20:30,504 [INFO]  Epoch[19] Validation-embarked-accuracy=0.750000\n",
            "2021-02-27 13:20:30,866 [INFO]  Epoch[20] Batch [0-18]\tSpeed: 853.14 samples/sec\tcross-entropy=0.125951\tembarked-accuracy=0.990132\n",
            "2021-02-27 13:20:31,173 [INFO]  Epoch[20] Train-cross-entropy=0.119610\n",
            "2021-02-27 13:20:31,174 [INFO]  Epoch[20] Train-embarked-accuracy=0.991071\n",
            "2021-02-27 13:20:31,180 [INFO]  Epoch[20] Time cost=0.671\n",
            "2021-02-27 13:20:31,188 [INFO]  Saved checkpoint to \"imputer_model_embarked/model-0020.params\"\n",
            "2021-02-27 13:20:31,255 [INFO]  Epoch[20] Validation-cross-entropy=0.460493\n",
            "2021-02-27 13:20:31,256 [INFO]  Epoch[20] Validation-embarked-accuracy=0.750000\n",
            "2021-02-27 13:20:31,639 [INFO]  Epoch[21] Batch [0-18]\tSpeed: 806.42 samples/sec\tcross-entropy=0.118711\tembarked-accuracy=0.990132\n",
            "2021-02-27 13:20:31,942 [INFO]  Epoch[21] Train-cross-entropy=0.112908\n",
            "2021-02-27 13:20:31,944 [INFO]  Epoch[21] Train-embarked-accuracy=0.991071\n",
            "2021-02-27 13:20:31,949 [INFO]  Epoch[21] Time cost=0.688\n",
            "2021-02-27 13:20:31,958 [INFO]  Saved checkpoint to \"imputer_model_embarked/model-0021.params\"\n",
            "2021-02-27 13:20:32,028 [INFO]  Epoch[21] Validation-cross-entropy=0.458435\n",
            "2021-02-27 13:20:32,029 [INFO]  Epoch[21] Validation-embarked-accuracy=0.750000\n",
            "2021-02-27 13:20:32,395 [INFO]  Epoch[22] Batch [0-18]\tSpeed: 842.43 samples/sec\tcross-entropy=0.112048\tembarked-accuracy=0.990132\n",
            "2021-02-27 13:20:32,698 [INFO]  Epoch[22] Train-cross-entropy=0.106738\n",
            "2021-02-27 13:20:32,699 [INFO]  Epoch[22] Train-embarked-accuracy=0.991071\n",
            "2021-02-27 13:20:32,701 [INFO]  Epoch[22] Time cost=0.669\n",
            "2021-02-27 13:20:32,707 [INFO]  Saved checkpoint to \"imputer_model_embarked/model-0022.params\"\n",
            "2021-02-27 13:20:32,771 [INFO]  Epoch[22] Validation-cross-entropy=0.456984\n",
            "2021-02-27 13:20:32,773 [INFO]  Epoch[22] Validation-embarked-accuracy=0.750000\n",
            "2021-02-27 13:20:33,137 [INFO]  Epoch[23] Batch [0-18]\tSpeed: 844.73 samples/sec\tcross-entropy=0.105921\tembarked-accuracy=0.993421\n",
            "2021-02-27 13:20:33,444 [INFO]  Epoch[23] Train-cross-entropy=0.101030\n",
            "2021-02-27 13:20:33,445 [INFO]  Epoch[23] Train-embarked-accuracy=0.992857\n",
            "2021-02-27 13:20:33,447 [INFO]  Epoch[23] Time cost=0.673\n",
            "2021-02-27 13:20:33,457 [INFO]  Saved checkpoint to \"imputer_model_embarked/model-0023.params\"\n",
            "2021-02-27 13:20:33,522 [INFO]  Epoch[23] Validation-cross-entropy=0.455607\n",
            "2021-02-27 13:20:33,524 [INFO]  Epoch[23] Validation-embarked-accuracy=0.750000\n",
            "2021-02-27 13:20:33,887 [INFO]  Epoch[24] Batch [0-18]\tSpeed: 852.12 samples/sec\tcross-entropy=0.100283\tembarked-accuracy=1.000000\n",
            "2021-02-27 13:20:34,193 [INFO]  Epoch[24] Train-cross-entropy=0.095794\n",
            "2021-02-27 13:20:34,194 [INFO]  Epoch[24] Train-embarked-accuracy=1.000000\n",
            "2021-02-27 13:20:34,196 [INFO]  Epoch[24] Time cost=0.671\n",
            "2021-02-27 13:20:34,206 [INFO]  Saved checkpoint to \"imputer_model_embarked/model-0024.params\"\n",
            "2021-02-27 13:20:34,271 [INFO]  Epoch[24] Validation-cross-entropy=0.454562\n",
            "2021-02-27 13:20:34,273 [INFO]  Epoch[24] Validation-embarked-accuracy=0.765625\n",
            "2021-02-27 13:20:34,643 [INFO]  Epoch[25] Batch [0-18]\tSpeed: 833.09 samples/sec\tcross-entropy=0.094986\tembarked-accuracy=1.000000\n",
            "2021-02-27 13:20:34,953 [INFO]  Epoch[25] Train-cross-entropy=0.090886\n",
            "2021-02-27 13:20:34,954 [INFO]  Epoch[25] Train-embarked-accuracy=1.000000\n",
            "2021-02-27 13:20:34,959 [INFO]  Epoch[25] Time cost=0.685\n",
            "2021-02-27 13:20:34,967 [INFO]  Saved checkpoint to \"imputer_model_embarked/model-0025.params\"\n",
            "2021-02-27 13:20:35,031 [INFO]  Epoch[25] Validation-cross-entropy=0.454101\n",
            "2021-02-27 13:20:35,032 [INFO]  Epoch[25] Validation-embarked-accuracy=0.781250\n",
            "2021-02-27 13:20:35,395 [INFO]  Epoch[26] Batch [0-18]\tSpeed: 849.83 samples/sec\tcross-entropy=0.090161\tembarked-accuracy=1.000000\n",
            "2021-02-27 13:20:35,705 [INFO]  Epoch[26] Train-cross-entropy=0.086370\n",
            "2021-02-27 13:20:35,706 [INFO]  Epoch[26] Train-embarked-accuracy=1.000000\n",
            "2021-02-27 13:20:35,707 [INFO]  Epoch[26] Time cost=0.673\n",
            "2021-02-27 13:20:35,720 [INFO]  Saved checkpoint to \"imputer_model_embarked/model-0026.params\"\n",
            "2021-02-27 13:20:35,785 [INFO]  Epoch[26] Validation-cross-entropy=0.453172\n",
            "2021-02-27 13:20:35,786 [INFO]  Epoch[26] Validation-embarked-accuracy=0.781250\n",
            "2021-02-27 13:20:36,158 [INFO]  Epoch[27] Batch [0-18]\tSpeed: 834.19 samples/sec\tcross-entropy=0.085651\tembarked-accuracy=1.000000\n",
            "2021-02-27 13:20:36,467 [INFO]  Epoch[27] Train-cross-entropy=0.082146\n",
            "2021-02-27 13:20:36,468 [INFO]  Epoch[27] Train-embarked-accuracy=1.000000\n",
            "2021-02-27 13:20:36,469 [INFO]  Epoch[27] Time cost=0.682\n",
            "2021-02-27 13:20:36,478 [INFO]  Saved checkpoint to \"imputer_model_embarked/model-0027.params\"\n",
            "2021-02-27 13:20:36,543 [INFO]  Epoch[27] Validation-cross-entropy=0.452562\n",
            "2021-02-27 13:20:36,551 [INFO]  Epoch[27] Validation-embarked-accuracy=0.781250\n",
            "2021-02-27 13:20:36,915 [INFO]  Epoch[28] Batch [0-18]\tSpeed: 847.39 samples/sec\tcross-entropy=0.081453\tembarked-accuracy=1.000000\n",
            "2021-02-27 13:20:37,222 [INFO]  Epoch[28] Train-cross-entropy=0.078229\n",
            "2021-02-27 13:20:37,229 [INFO]  Epoch[28] Train-embarked-accuracy=1.000000\n",
            "2021-02-27 13:20:37,231 [INFO]  Epoch[28] Time cost=0.677\n",
            "2021-02-27 13:20:37,240 [INFO]  Saved checkpoint to \"imputer_model_embarked/model-0028.params\"\n",
            "2021-02-27 13:20:37,304 [INFO]  Epoch[28] Validation-cross-entropy=0.452365\n",
            "2021-02-27 13:20:37,309 [INFO]  Epoch[28] Validation-embarked-accuracy=0.781250\n",
            "2021-02-27 13:20:37,677 [INFO]  Epoch[29] Batch [0-18]\tSpeed: 832.36 samples/sec\tcross-entropy=0.077585\tembarked-accuracy=1.000000\n",
            "2021-02-27 13:20:37,982 [INFO]  Epoch[29] Train-cross-entropy=0.074590\n",
            "2021-02-27 13:20:37,987 [INFO]  Epoch[29] Train-embarked-accuracy=1.000000\n",
            "2021-02-27 13:20:37,988 [INFO]  Epoch[29] Time cost=0.678\n",
            "2021-02-27 13:20:37,996 [INFO]  Saved checkpoint to \"imputer_model_embarked/model-0029.params\"\n",
            "2021-02-27 13:20:38,064 [INFO]  Epoch[29] Validation-cross-entropy=0.452350\n",
            "2021-02-27 13:20:38,065 [INFO]  Epoch[29] Validation-embarked-accuracy=0.781250\n",
            "2021-02-27 13:20:38,434 [INFO]  Epoch[30] Batch [0-18]\tSpeed: 841.60 samples/sec\tcross-entropy=0.073963\tembarked-accuracy=1.000000\n",
            "2021-02-27 13:20:38,754 [INFO]  Epoch[30] Train-cross-entropy=0.071173\n",
            "2021-02-27 13:20:38,759 [INFO]  Epoch[30] Train-embarked-accuracy=1.000000\n",
            "2021-02-27 13:20:38,760 [INFO]  Epoch[30] Time cost=0.692\n",
            "2021-02-27 13:20:38,770 [INFO]  Saved checkpoint to \"imputer_model_embarked/model-0030.params\"\n",
            "2021-02-27 13:20:38,836 [INFO]  Epoch[30] Validation-cross-entropy=0.451946\n",
            "2021-02-27 13:20:38,837 [INFO]  Epoch[30] Validation-embarked-accuracy=0.781250\n",
            "2021-02-27 13:20:39,206 [INFO]  Epoch[31] Batch [0-18]\tSpeed: 853.72 samples/sec\tcross-entropy=0.070566\tembarked-accuracy=1.000000\n",
            "2021-02-27 13:20:39,513 [INFO]  Epoch[31] Train-cross-entropy=0.067981\n",
            "2021-02-27 13:20:39,514 [INFO]  Epoch[31] Train-embarked-accuracy=1.000000\n",
            "2021-02-27 13:20:39,520 [INFO]  Epoch[31] Time cost=0.677\n",
            "2021-02-27 13:20:39,527 [INFO]  Saved checkpoint to \"imputer_model_embarked/model-0031.params\"\n",
            "2021-02-27 13:20:39,591 [INFO]  Epoch[31] Validation-cross-entropy=0.452175\n",
            "2021-02-27 13:20:39,592 [INFO]  Epoch[31] Validation-embarked-accuracy=0.781250\n",
            "2021-02-27 13:20:39,953 [INFO]  Epoch[32] Batch [0-18]\tSpeed: 855.29 samples/sec\tcross-entropy=0.067401\tembarked-accuracy=1.000000\n",
            "2021-02-27 13:20:40,257 [INFO]  Epoch[32] Train-cross-entropy=0.064982\n",
            "2021-02-27 13:20:40,264 [INFO]  Epoch[32] Train-embarked-accuracy=1.000000\n",
            "2021-02-27 13:20:40,268 [INFO]  Epoch[32] Time cost=0.671\n",
            "2021-02-27 13:20:40,274 [INFO]  Saved checkpoint to \"imputer_model_embarked/model-0032.params\"\n",
            "2021-02-27 13:20:40,344 [INFO]  Epoch[32] Validation-cross-entropy=0.451978\n",
            "2021-02-27 13:20:40,346 [INFO]  Epoch[32] Validation-embarked-accuracy=0.781250\n",
            "2021-02-27 13:20:40,712 [INFO]  Epoch[33] Batch [0-18]\tSpeed: 840.57 samples/sec\tcross-entropy=0.064466\tembarked-accuracy=1.000000\n",
            "2021-02-27 13:20:41,029 [INFO]  Epoch[33] Train-cross-entropy=0.062200\n",
            "2021-02-27 13:20:41,030 [INFO]  Epoch[33] Train-embarked-accuracy=1.000000\n",
            "2021-02-27 13:20:41,034 [INFO]  Epoch[33] Time cost=0.687\n",
            "2021-02-27 13:20:41,042 [INFO]  Saved checkpoint to \"imputer_model_embarked/model-0033.params\"\n",
            "2021-02-27 13:20:41,109 [INFO]  Epoch[33] Validation-cross-entropy=0.452374\n",
            "2021-02-27 13:20:41,110 [INFO]  Epoch[33] Validation-embarked-accuracy=0.781250\n",
            "2021-02-27 13:20:41,476 [INFO]  Epoch[34] Batch [0-18]\tSpeed: 841.11 samples/sec\tcross-entropy=0.061667\tembarked-accuracy=1.000000\n",
            "2021-02-27 13:20:41,786 [INFO]  Epoch[34] Train-cross-entropy=0.059549\n",
            "2021-02-27 13:20:41,791 [INFO]  Epoch[34] Train-embarked-accuracy=1.000000\n",
            "2021-02-27 13:20:41,795 [INFO]  Epoch[34] Time cost=0.681\n",
            "2021-02-27 13:20:41,802 [INFO]  Saved checkpoint to \"imputer_model_embarked/model-0034.params\"\n",
            "2021-02-27 13:20:41,867 [INFO]  Epoch[34] Validation-cross-entropy=0.452582\n",
            "2021-02-27 13:20:41,870 [INFO]  Epoch[34] Validation-embarked-accuracy=0.781250\n",
            "2021-02-27 13:20:42,233 [INFO]  Epoch[35] Batch [0-18]\tSpeed: 848.81 samples/sec\tcross-entropy=0.059072\tembarked-accuracy=1.000000\n",
            "2021-02-27 13:20:42,542 [INFO]  Epoch[35] Train-cross-entropy=0.057084\n",
            "2021-02-27 13:20:42,545 [INFO]  Epoch[35] Train-embarked-accuracy=1.000000\n",
            "2021-02-27 13:20:42,551 [INFO]  Epoch[35] Time cost=0.676\n",
            "2021-02-27 13:20:42,558 [INFO]  Saved checkpoint to \"imputer_model_embarked/model-0035.params\"\n",
            "2021-02-27 13:20:42,622 [INFO]  No improvement detected for 5 epochs compared to 0.45194590650498867 last error obtained: 0.4528139494359493, stopping here\n",
            "2021-02-27 13:20:42,628 [INFO]  \n",
            "========== done (27.363909244537354 s) fit model\n"
          ],
          "name": "stderr"
        },
        {
          "output_type": "execute_result",
          "data": {
            "text/plain": [
              "<datawig.simple_imputer.SimpleImputer at 0x7f86311ea150>"
            ]
          },
          "metadata": {
            "tags": []
          },
          "execution_count": 11
        }
      ]
    },
    {
      "cell_type": "code",
      "metadata": {
        "id": "a7NLH0HjPJ_L",
        "colab": {
          "base_uri": "https://localhost:8080/"
        },
        "outputId": "1f5f9ac1-ad21-4418-e1a8-6ff104ff0ea5"
      },
      "source": [
        "# 欠損値に相当する項目の予測\r\n",
        "predictions = imputer.predict(test)\r\n",
        "predictions.shape"
      ],
      "execution_count": 12,
      "outputs": [
        {
          "output_type": "execute_result",
          "data": {
            "text/plain": [
              "(268, 13)"
            ]
          },
          "metadata": {
            "tags": []
          },
          "execution_count": 12
        }
      ]
    },
    {
      "cell_type": "code",
      "metadata": {
        "colab": {
          "base_uri": "https://localhost:8080/",
          "height": 77
        },
        "id": "1X0PY-C7W0cN",
        "outputId": "f23369bf-87c9-4037-d3b0-f6de76c9d5a5"
      },
      "source": [
        "predictions[predictions[\"embarked\"].isnull()]"
      ],
      "execution_count": 13,
      "outputs": [
        {
          "output_type": "execute_result",
          "data": {
            "text/html": [
              "<div>\n",
              "<style scoped>\n",
              "    .dataframe tbody tr th:only-of-type {\n",
              "        vertical-align: middle;\n",
              "    }\n",
              "\n",
              "    .dataframe tbody tr th {\n",
              "        vertical-align: top;\n",
              "    }\n",
              "\n",
              "    .dataframe thead th {\n",
              "        text-align: right;\n",
              "    }\n",
              "</style>\n",
              "<table border=\"1\" class=\"dataframe\">\n",
              "  <thead>\n",
              "    <tr style=\"text-align: right;\">\n",
              "      <th></th>\n",
              "      <th>survived</th>\n",
              "      <th>pclass</th>\n",
              "      <th>name</th>\n",
              "      <th>sex</th>\n",
              "      <th>age</th>\n",
              "      <th>sibsp</th>\n",
              "      <th>parch</th>\n",
              "      <th>ticket</th>\n",
              "      <th>fare</th>\n",
              "      <th>cabin</th>\n",
              "      <th>embarked</th>\n",
              "      <th>embarked_imputed</th>\n",
              "      <th>embarked_imputed_proba</th>\n",
              "    </tr>\n",
              "  </thead>\n",
              "  <tbody>\n",
              "    <tr>\n",
              "      <th>829</th>\n",
              "      <td>1</td>\n",
              "      <td>1</td>\n",
              "      <td>Stone, Mrs. George Nelson (Martha Evelyn)</td>\n",
              "      <td>female</td>\n",
              "      <td>62.0</td>\n",
              "      <td>0</td>\n",
              "      <td>0</td>\n",
              "      <td>113572</td>\n",
              "      <td>80.0</td>\n",
              "      <td>B28</td>\n",
              "      <td>NaN</td>\n",
              "      <td>S</td>\n",
              "      <td>0.593263</td>\n",
              "    </tr>\n",
              "  </tbody>\n",
              "</table>\n",
              "</div>"
            ],
            "text/plain": [
              "     survived  pclass  ... embarked_imputed embarked_imputed_proba\n",
              "829         1       1  ...                S               0.593263\n",
              "\n",
              "[1 rows x 13 columns]"
            ]
          },
          "metadata": {
            "tags": []
          },
          "execution_count": 13
        }
      ]
    },
    {
      "cell_type": "markdown",
      "metadata": {
        "id": "olj5j6yIbUf8"
      },
      "source": [
        "### 非欠損部分で予測精度を検証"
      ]
    },
    {
      "cell_type": "code",
      "metadata": {
        "colab": {
          "base_uri": "https://localhost:8080/"
        },
        "id": "ZaKSAp2YXk5z",
        "outputId": "b03d2b13-6e93-49ae-8da9-8c54c756ed10"
      },
      "source": [
        "temp = predictions[predictions[\"embarked\"].notnull()].copy()\r\n",
        "temp.shape"
      ],
      "execution_count": 14,
      "outputs": [
        {
          "output_type": "execute_result",
          "data": {
            "text/plain": [
              "(267, 13)"
            ]
          },
          "metadata": {
            "tags": []
          },
          "execution_count": 14
        }
      ]
    },
    {
      "cell_type": "code",
      "metadata": {
        "id": "HJZXxeUPXGGS"
      },
      "source": [
        "le = preprocessing.LabelEncoder()\r\n",
        "temp[\"le_embarked\"] = le.fit_transform(temp[\"embarked\"])\r\n",
        "temp[\"le_embarked_imputed\"] = le.fit_transform(temp[\"embarked_imputed\"])"
      ],
      "execution_count": 15,
      "outputs": []
    },
    {
      "cell_type": "code",
      "metadata": {
        "colab": {
          "base_uri": "https://localhost:8080/",
          "height": 197
        },
        "id": "nyRPORn5Yz-N",
        "outputId": "bfb796bf-ad51-46e0-cb00-566f4c7fb92c"
      },
      "source": [
        "temp.head()"
      ],
      "execution_count": 16,
      "outputs": [
        {
          "output_type": "execute_result",
          "data": {
            "text/html": [
              "<div>\n",
              "<style scoped>\n",
              "    .dataframe tbody tr th:only-of-type {\n",
              "        vertical-align: middle;\n",
              "    }\n",
              "\n",
              "    .dataframe tbody tr th {\n",
              "        vertical-align: top;\n",
              "    }\n",
              "\n",
              "    .dataframe thead th {\n",
              "        text-align: right;\n",
              "    }\n",
              "</style>\n",
              "<table border=\"1\" class=\"dataframe\">\n",
              "  <thead>\n",
              "    <tr style=\"text-align: right;\">\n",
              "      <th></th>\n",
              "      <th>survived</th>\n",
              "      <th>pclass</th>\n",
              "      <th>name</th>\n",
              "      <th>sex</th>\n",
              "      <th>age</th>\n",
              "      <th>sibsp</th>\n",
              "      <th>parch</th>\n",
              "      <th>ticket</th>\n",
              "      <th>fare</th>\n",
              "      <th>cabin</th>\n",
              "      <th>embarked</th>\n",
              "      <th>embarked_imputed</th>\n",
              "      <th>embarked_imputed_proba</th>\n",
              "      <th>le_embarked</th>\n",
              "      <th>le_embarked_imputed</th>\n",
              "    </tr>\n",
              "  </thead>\n",
              "  <tbody>\n",
              "    <tr>\n",
              "      <th>709</th>\n",
              "      <td>1</td>\n",
              "      <td>3</td>\n",
              "      <td>Moubarek, Master. Halim Gonios (\"William George\")</td>\n",
              "      <td>male</td>\n",
              "      <td>NaN</td>\n",
              "      <td>1</td>\n",
              "      <td>1</td>\n",
              "      <td>2661</td>\n",
              "      <td>15.2458</td>\n",
              "      <td>NaN</td>\n",
              "      <td>C</td>\n",
              "      <td>S</td>\n",
              "      <td>0.876562</td>\n",
              "      <td>0</td>\n",
              "      <td>2</td>\n",
              "    </tr>\n",
              "    <tr>\n",
              "      <th>439</th>\n",
              "      <td>0</td>\n",
              "      <td>2</td>\n",
              "      <td>Kvillner, Mr. Johan Henrik Johannesson</td>\n",
              "      <td>male</td>\n",
              "      <td>31.0</td>\n",
              "      <td>0</td>\n",
              "      <td>0</td>\n",
              "      <td>C.A. 18723</td>\n",
              "      <td>10.5000</td>\n",
              "      <td>NaN</td>\n",
              "      <td>S</td>\n",
              "      <td>S</td>\n",
              "      <td>0.948137</td>\n",
              "      <td>2</td>\n",
              "      <td>2</td>\n",
              "    </tr>\n",
              "    <tr>\n",
              "      <th>840</th>\n",
              "      <td>0</td>\n",
              "      <td>3</td>\n",
              "      <td>Alhomaki, Mr. Ilmari Rudolf</td>\n",
              "      <td>male</td>\n",
              "      <td>20.0</td>\n",
              "      <td>0</td>\n",
              "      <td>0</td>\n",
              "      <td>SOTON/O2 3101287</td>\n",
              "      <td>7.9250</td>\n",
              "      <td>NaN</td>\n",
              "      <td>S</td>\n",
              "      <td>S</td>\n",
              "      <td>0.756405</td>\n",
              "      <td>2</td>\n",
              "      <td>2</td>\n",
              "    </tr>\n",
              "    <tr>\n",
              "      <th>720</th>\n",
              "      <td>1</td>\n",
              "      <td>2</td>\n",
              "      <td>Harper, Miss. Annie Jessie \"Nina\"</td>\n",
              "      <td>female</td>\n",
              "      <td>6.0</td>\n",
              "      <td>0</td>\n",
              "      <td>1</td>\n",
              "      <td>248727</td>\n",
              "      <td>33.0000</td>\n",
              "      <td>NaN</td>\n",
              "      <td>S</td>\n",
              "      <td>S</td>\n",
              "      <td>0.591870</td>\n",
              "      <td>2</td>\n",
              "      <td>2</td>\n",
              "    </tr>\n",
              "    <tr>\n",
              "      <th>39</th>\n",
              "      <td>1</td>\n",
              "      <td>3</td>\n",
              "      <td>Nicola-Yarred, Miss. Jamila</td>\n",
              "      <td>female</td>\n",
              "      <td>14.0</td>\n",
              "      <td>1</td>\n",
              "      <td>0</td>\n",
              "      <td>2651</td>\n",
              "      <td>11.2417</td>\n",
              "      <td>NaN</td>\n",
              "      <td>C</td>\n",
              "      <td>Q</td>\n",
              "      <td>0.389601</td>\n",
              "      <td>0</td>\n",
              "      <td>1</td>\n",
              "    </tr>\n",
              "  </tbody>\n",
              "</table>\n",
              "</div>"
            ],
            "text/plain": [
              "     survived  pclass  ... le_embarked le_embarked_imputed\n",
              "709         1       3  ...           0                   2\n",
              "439         0       2  ...           2                   2\n",
              "840         0       3  ...           2                   2\n",
              "720         1       2  ...           2                   2\n",
              "39          1       3  ...           0                   1\n",
              "\n",
              "[5 rows x 15 columns]"
            ]
          },
          "metadata": {
            "tags": []
          },
          "execution_count": 16
        }
      ]
    },
    {
      "cell_type": "code",
      "metadata": {
        "colab": {
          "base_uri": "https://localhost:8080/"
        },
        "id": "SIgXnxv5YZQK",
        "outputId": "139a871e-d36f-4507-8fbe-2a44f5db451f"
      },
      "source": [
        "f1_score(temp[\"le_embarked\"], temp[\"le_embarked_imputed\"], average='macro')"
      ],
      "execution_count": 17,
      "outputs": [
        {
          "output_type": "execute_result",
          "data": {
            "text/plain": [
              "0.639421620673713"
            ]
          },
          "metadata": {
            "tags": []
          },
          "execution_count": 17
        }
      ]
    },
    {
      "cell_type": "markdown",
      "metadata": {
        "id": "UhoNspWbbPXz"
      },
      "source": [
        "## cabin の欠損値処理"
      ]
    },
    {
      "cell_type": "code",
      "metadata": {
        "id": "meWldWxKbqwb"
      },
      "source": [
        "FILE_PATH = \"imputer_model_cabin\"\r\n",
        "\r\n",
        "if os.path.isdir(FILE_PATH):\r\n",
        "    pass\r\n",
        "else:\r\n",
        "    os.mkdir(FILE_PATH)"
      ],
      "execution_count": 18,
      "outputs": []
    },
    {
      "cell_type": "code",
      "metadata": {
        "id": "qJ1KtORFbRYM"
      },
      "source": [
        "imputer = datawig.SimpleImputer(\r\n",
        "    input_columns=INPUT_COLUMNS,\r\n",
        "    output_column='cabin',\r\n",
        "    output_path = FILE_PATH\r\n",
        ")"
      ],
      "execution_count": 19,
      "outputs": []
    },
    {
      "cell_type": "code",
      "metadata": {
        "colab": {
          "base_uri": "https://localhost:8080/"
        },
        "id": "Bbadagi4cH-z",
        "outputId": "e66d26b4-7243-423c-fdee-8c952d4fd352"
      },
      "source": [
        "# 学習\r\n",
        "imputer.fit(\r\n",
        "    train_df=train,\r\n",
        "    num_epochs=EPOCH\r\n",
        "    )"
      ],
      "execution_count": 20,
      "outputs": [
        {
          "output_type": "stream",
          "text": [
            "/usr/local/lib/python3.7/dist-packages/pandas/core/frame.py:3509: SettingWithCopyWarning: \n",
            "A value is trying to be set on a copy of a slice from a DataFrame.\n",
            "Try using .loc[row_indexer,col_indexer] = value instead\n",
            "\n",
            "See the caveats in the documentation: http://pandas.pydata.org/pandas-docs/stable/user_guide/indexing.html#returning-a-view-versus-a-copy\n",
            "  self[k1] = value[k2]\n",
            "/usr/local/lib/python3.7/dist-packages/sklearn/metrics/_classification.py:1272: UndefinedMetricWarning: Precision is ill-defined and being set to 0.0 in labels with no predicted samples. Use `zero_division` parameter to control this behavior.\n",
            "  _warn_prf(average, modifier, msg_start, len(result))\n",
            "/usr/local/lib/python3.7/dist-packages/sklearn/metrics/_classification.py:1272: UndefinedMetricWarning: Recall is ill-defined and being set to 0.0 in labels with no true samples. Use `zero_division` parameter to control this behavior.\n",
            "  _warn_prf(average, modifier, msg_start, len(result))\n"
          ],
          "name": "stderr"
        },
        {
          "output_type": "execute_result",
          "data": {
            "text/plain": [
              "<datawig.simple_imputer.SimpleImputer at 0x7f862dd78e50>"
            ]
          },
          "metadata": {
            "tags": []
          },
          "execution_count": 20
        }
      ]
    },
    {
      "cell_type": "code",
      "metadata": {
        "colab": {
          "base_uri": "https://localhost:8080/"
        },
        "id": "qkuqNFWncJ3t",
        "outputId": "9f51db6a-6c3c-45e0-e530-cf9377f4d9b6"
      },
      "source": [
        "# 欠損値に相当する項目の予測\r\n",
        "predictions = imputer.predict(test)\r\n",
        "predictions.shape"
      ],
      "execution_count": 21,
      "outputs": [
        {
          "output_type": "execute_result",
          "data": {
            "text/plain": [
              "(268, 13)"
            ]
          },
          "metadata": {
            "tags": []
          },
          "execution_count": 21
        }
      ]
    },
    {
      "cell_type": "markdown",
      "metadata": {
        "id": "bbNZ4nlhcWAT"
      },
      "source": [
        "### 非欠損部分で予測精度を検証"
      ]
    },
    {
      "cell_type": "code",
      "metadata": {
        "colab": {
          "base_uri": "https://localhost:8080/"
        },
        "id": "hM-5CLwwcRYc",
        "outputId": "b8705f84-53a2-457f-9d9c-470ff4cee63e"
      },
      "source": [
        "temp = predictions[predictions[\"cabin\"].notnull()].copy()\r\n",
        "temp.shape"
      ],
      "execution_count": 22,
      "outputs": [
        {
          "output_type": "execute_result",
          "data": {
            "text/plain": [
              "(65, 13)"
            ]
          },
          "metadata": {
            "tags": []
          },
          "execution_count": 22
        }
      ]
    },
    {
      "cell_type": "code",
      "metadata": {
        "id": "XMwyQLI3cZ9s"
      },
      "source": [
        "from sklearn import preprocessing\r\n",
        "le = preprocessing.LabelEncoder()\r\n",
        "temp[\"le_cabin\"] = le.fit_transform(temp[\"cabin\"])\r\n",
        "temp[\"le_cabin_imputed\"] = le.fit_transform(temp[\"cabin_imputed\"])"
      ],
      "execution_count": 23,
      "outputs": []
    },
    {
      "cell_type": "code",
      "metadata": {
        "colab": {
          "base_uri": "https://localhost:8080/",
          "height": 197
        },
        "id": "lUN2L4VVco3b",
        "outputId": "c57e574a-06b2-4f6c-fab1-49e3356da15d"
      },
      "source": [
        "temp.head()"
      ],
      "execution_count": 24,
      "outputs": [
        {
          "output_type": "execute_result",
          "data": {
            "text/html": [
              "<div>\n",
              "<style scoped>\n",
              "    .dataframe tbody tr th:only-of-type {\n",
              "        vertical-align: middle;\n",
              "    }\n",
              "\n",
              "    .dataframe tbody tr th {\n",
              "        vertical-align: top;\n",
              "    }\n",
              "\n",
              "    .dataframe thead th {\n",
              "        text-align: right;\n",
              "    }\n",
              "</style>\n",
              "<table border=\"1\" class=\"dataframe\">\n",
              "  <thead>\n",
              "    <tr style=\"text-align: right;\">\n",
              "      <th></th>\n",
              "      <th>survived</th>\n",
              "      <th>pclass</th>\n",
              "      <th>name</th>\n",
              "      <th>sex</th>\n",
              "      <th>age</th>\n",
              "      <th>sibsp</th>\n",
              "      <th>parch</th>\n",
              "      <th>ticket</th>\n",
              "      <th>fare</th>\n",
              "      <th>cabin</th>\n",
              "      <th>embarked</th>\n",
              "      <th>cabin_imputed</th>\n",
              "      <th>cabin_imputed_proba</th>\n",
              "      <th>le_cabin</th>\n",
              "      <th>le_cabin_imputed</th>\n",
              "    </tr>\n",
              "  </thead>\n",
              "  <tbody>\n",
              "    <tr>\n",
              "      <th>136</th>\n",
              "      <td>1</td>\n",
              "      <td>1</td>\n",
              "      <td>Newsom, Miss. Helen Monypeny</td>\n",
              "      <td>female</td>\n",
              "      <td>19.0</td>\n",
              "      <td>0</td>\n",
              "      <td>2</td>\n",
              "      <td>11752</td>\n",
              "      <td>26.2833</td>\n",
              "      <td>D47</td>\n",
              "      <td>S</td>\n",
              "      <td>G6</td>\n",
              "      <td>0.465823</td>\n",
              "      <td>43</td>\n",
              "      <td>37</td>\n",
              "    </tr>\n",
              "    <tr>\n",
              "      <th>137</th>\n",
              "      <td>0</td>\n",
              "      <td>1</td>\n",
              "      <td>Futrelle, Mr. Jacques Heath</td>\n",
              "      <td>male</td>\n",
              "      <td>37.0</td>\n",
              "      <td>1</td>\n",
              "      <td>0</td>\n",
              "      <td>113803</td>\n",
              "      <td>53.1000</td>\n",
              "      <td>C123</td>\n",
              "      <td>S</td>\n",
              "      <td>E31</td>\n",
              "      <td>0.251338</td>\n",
              "      <td>20</td>\n",
              "      <td>31</td>\n",
              "    </tr>\n",
              "    <tr>\n",
              "      <th>853</th>\n",
              "      <td>1</td>\n",
              "      <td>1</td>\n",
              "      <td>Lines, Miss. Mary Conover</td>\n",
              "      <td>female</td>\n",
              "      <td>16.0</td>\n",
              "      <td>0</td>\n",
              "      <td>1</td>\n",
              "      <td>PC 17592</td>\n",
              "      <td>39.4000</td>\n",
              "      <td>D28</td>\n",
              "      <td>S</td>\n",
              "      <td>E33</td>\n",
              "      <td>0.302671</td>\n",
              "      <td>41</td>\n",
              "      <td>32</td>\n",
              "    </tr>\n",
              "    <tr>\n",
              "      <th>621</th>\n",
              "      <td>1</td>\n",
              "      <td>1</td>\n",
              "      <td>Kimball, Mr. Edwin Nelson Jr</td>\n",
              "      <td>male</td>\n",
              "      <td>42.0</td>\n",
              "      <td>1</td>\n",
              "      <td>0</td>\n",
              "      <td>11753</td>\n",
              "      <td>52.5542</td>\n",
              "      <td>D19</td>\n",
              "      <td>S</td>\n",
              "      <td>B20</td>\n",
              "      <td>0.166794</td>\n",
              "      <td>38</td>\n",
              "      <td>4</td>\n",
              "    </tr>\n",
              "    <tr>\n",
              "      <th>110</th>\n",
              "      <td>0</td>\n",
              "      <td>1</td>\n",
              "      <td>Porter, Mr. Walter Chamberlain</td>\n",
              "      <td>male</td>\n",
              "      <td>47.0</td>\n",
              "      <td>0</td>\n",
              "      <td>0</td>\n",
              "      <td>110465</td>\n",
              "      <td>52.0000</td>\n",
              "      <td>C110</td>\n",
              "      <td>S</td>\n",
              "      <td>E46</td>\n",
              "      <td>0.070175</td>\n",
              "      <td>19</td>\n",
              "      <td>33</td>\n",
              "    </tr>\n",
              "  </tbody>\n",
              "</table>\n",
              "</div>"
            ],
            "text/plain": [
              "     survived  pclass  ... le_cabin le_cabin_imputed\n",
              "136         1       1  ...       43               37\n",
              "137         0       1  ...       20               31\n",
              "853         1       1  ...       41               32\n",
              "621         1       1  ...       38                4\n",
              "110         0       1  ...       19               33\n",
              "\n",
              "[5 rows x 15 columns]"
            ]
          },
          "metadata": {
            "tags": []
          },
          "execution_count": 24
        }
      ]
    },
    {
      "cell_type": "code",
      "metadata": {
        "colab": {
          "base_uri": "https://localhost:8080/"
        },
        "id": "hmXZY7PfcsiL",
        "outputId": "29de38fe-b3c6-4679-d225-dc7f833b0a36"
      },
      "source": [
        "f1_score(temp[\"le_cabin\"], temp[\"le_cabin_imputed\"], average='macro')"
      ],
      "execution_count": 25,
      "outputs": [
        {
          "output_type": "execute_result",
          "data": {
            "text/plain": [
              "0.028735632183908042"
            ]
          },
          "metadata": {
            "tags": []
          },
          "execution_count": 25
        }
      ]
    },
    {
      "cell_type": "markdown",
      "metadata": {
        "id": "fmDhbwlHfrkU"
      },
      "source": [
        "## age の欠損値処理"
      ]
    },
    {
      "cell_type": "code",
      "metadata": {
        "id": "zAx2yDzYfp-8"
      },
      "source": [
        "FILE_PATH = \"imputer_model_age\"\r\n",
        "\r\n",
        "if os.path.isdir(FILE_PATH):\r\n",
        "    pass\r\n",
        "else:\r\n",
        "    os.mkdir(FILE_PATH)"
      ],
      "execution_count": 26,
      "outputs": []
    },
    {
      "cell_type": "code",
      "metadata": {
        "id": "ucYBeVuFjVCE"
      },
      "source": [
        "imputer = datawig.SimpleImputer(\r\n",
        "    input_columns=INPUT_COLUMNS,\r\n",
        "    output_column='age',\r\n",
        "    output_path = FILE_PATH\r\n",
        ")"
      ],
      "execution_count": 27,
      "outputs": []
    },
    {
      "cell_type": "code",
      "metadata": {
        "colab": {
          "base_uri": "https://localhost:8080/"
        },
        "id": "Az5h5CJpjVLT",
        "outputId": "95814d31-b4fc-4905-cd6b-77d68d861d39"
      },
      "source": [
        "# 学習\r\n",
        "imputer.fit(\r\n",
        "    train_df=train,\r\n",
        "    num_epochs=EPOCH\r\n",
        "    )"
      ],
      "execution_count": 28,
      "outputs": [
        {
          "output_type": "execute_result",
          "data": {
            "text/plain": [
              "<datawig.simple_imputer.SimpleImputer at 0x7f862dda8210>"
            ]
          },
          "metadata": {
            "tags": []
          },
          "execution_count": 28
        }
      ]
    },
    {
      "cell_type": "code",
      "metadata": {
        "colab": {
          "base_uri": "https://localhost:8080/"
        },
        "id": "2xfXmu12jVNq",
        "outputId": "3918225e-9999-438e-e8c9-8d9a5bc74383"
      },
      "source": [
        "# 欠損値に相当する項目の予測\r\n",
        "predictions = imputer.predict(test)\r\n",
        "predictions.shape"
      ],
      "execution_count": 29,
      "outputs": [
        {
          "output_type": "execute_result",
          "data": {
            "text/plain": [
              "(268, 12)"
            ]
          },
          "metadata": {
            "tags": []
          },
          "execution_count": 29
        }
      ]
    },
    {
      "cell_type": "markdown",
      "metadata": {
        "id": "Uw_duiODlfWJ"
      },
      "source": [
        "### 非欠損部分で予測精度を検証"
      ]
    },
    {
      "cell_type": "code",
      "metadata": {
        "colab": {
          "base_uri": "https://localhost:8080/"
        },
        "id": "ViL3oA55la6Q",
        "outputId": "e3620547-8fef-487d-876c-34b9536155ca"
      },
      "source": [
        "temp = predictions[predictions[\"age\"].notnull()].copy()\r\n",
        "temp.shape"
      ],
      "execution_count": 30,
      "outputs": [
        {
          "output_type": "execute_result",
          "data": {
            "text/plain": [
              "(215, 12)"
            ]
          },
          "metadata": {
            "tags": []
          },
          "execution_count": 30
        }
      ]
    },
    {
      "cell_type": "code",
      "metadata": {
        "colab": {
          "base_uri": "https://localhost:8080/",
          "height": 197
        },
        "id": "YBQqBEKQlzro",
        "outputId": "e875c48e-d2ec-4f4b-c4eb-a9d5699c6d3b"
      },
      "source": [
        "temp.head()"
      ],
      "execution_count": 31,
      "outputs": [
        {
          "output_type": "execute_result",
          "data": {
            "text/html": [
              "<div>\n",
              "<style scoped>\n",
              "    .dataframe tbody tr th:only-of-type {\n",
              "        vertical-align: middle;\n",
              "    }\n",
              "\n",
              "    .dataframe tbody tr th {\n",
              "        vertical-align: top;\n",
              "    }\n",
              "\n",
              "    .dataframe thead th {\n",
              "        text-align: right;\n",
              "    }\n",
              "</style>\n",
              "<table border=\"1\" class=\"dataframe\">\n",
              "  <thead>\n",
              "    <tr style=\"text-align: right;\">\n",
              "      <th></th>\n",
              "      <th>survived</th>\n",
              "      <th>pclass</th>\n",
              "      <th>name</th>\n",
              "      <th>sex</th>\n",
              "      <th>age</th>\n",
              "      <th>sibsp</th>\n",
              "      <th>parch</th>\n",
              "      <th>ticket</th>\n",
              "      <th>fare</th>\n",
              "      <th>cabin</th>\n",
              "      <th>embarked</th>\n",
              "      <th>age_imputed</th>\n",
              "    </tr>\n",
              "  </thead>\n",
              "  <tbody>\n",
              "    <tr>\n",
              "      <th>439</th>\n",
              "      <td>0</td>\n",
              "      <td>2</td>\n",
              "      <td>Kvillner, Mr. Johan Henrik Johannesson</td>\n",
              "      <td>male</td>\n",
              "      <td>31.0</td>\n",
              "      <td>0</td>\n",
              "      <td>0</td>\n",
              "      <td>C.A. 18723</td>\n",
              "      <td>10.5000</td>\n",
              "      <td>NaN</td>\n",
              "      <td>S</td>\n",
              "      <td>35.729319</td>\n",
              "    </tr>\n",
              "    <tr>\n",
              "      <th>840</th>\n",
              "      <td>0</td>\n",
              "      <td>3</td>\n",
              "      <td>Alhomaki, Mr. Ilmari Rudolf</td>\n",
              "      <td>male</td>\n",
              "      <td>20.0</td>\n",
              "      <td>0</td>\n",
              "      <td>0</td>\n",
              "      <td>SOTON/O2 3101287</td>\n",
              "      <td>7.9250</td>\n",
              "      <td>NaN</td>\n",
              "      <td>S</td>\n",
              "      <td>24.359213</td>\n",
              "    </tr>\n",
              "    <tr>\n",
              "      <th>720</th>\n",
              "      <td>1</td>\n",
              "      <td>2</td>\n",
              "      <td>Harper, Miss. Annie Jessie \"Nina\"</td>\n",
              "      <td>female</td>\n",
              "      <td>6.0</td>\n",
              "      <td>0</td>\n",
              "      <td>1</td>\n",
              "      <td>248727</td>\n",
              "      <td>33.0000</td>\n",
              "      <td>NaN</td>\n",
              "      <td>S</td>\n",
              "      <td>14.459458</td>\n",
              "    </tr>\n",
              "    <tr>\n",
              "      <th>39</th>\n",
              "      <td>1</td>\n",
              "      <td>3</td>\n",
              "      <td>Nicola-Yarred, Miss. Jamila</td>\n",
              "      <td>female</td>\n",
              "      <td>14.0</td>\n",
              "      <td>1</td>\n",
              "      <td>0</td>\n",
              "      <td>2651</td>\n",
              "      <td>11.2417</td>\n",
              "      <td>NaN</td>\n",
              "      <td>C</td>\n",
              "      <td>19.566256</td>\n",
              "    </tr>\n",
              "    <tr>\n",
              "      <th>290</th>\n",
              "      <td>1</td>\n",
              "      <td>1</td>\n",
              "      <td>Barber, Miss. Ellen \"Nellie\"</td>\n",
              "      <td>female</td>\n",
              "      <td>26.0</td>\n",
              "      <td>0</td>\n",
              "      <td>0</td>\n",
              "      <td>19877</td>\n",
              "      <td>78.8500</td>\n",
              "      <td>NaN</td>\n",
              "      <td>S</td>\n",
              "      <td>34.928979</td>\n",
              "    </tr>\n",
              "  </tbody>\n",
              "</table>\n",
              "</div>"
            ],
            "text/plain": [
              "     survived  pclass  ... embarked age_imputed\n",
              "439         0       2  ...        S   35.729319\n",
              "840         0       3  ...        S   24.359213\n",
              "720         1       2  ...        S   14.459458\n",
              "39          1       3  ...        C   19.566256\n",
              "290         1       1  ...        S   34.928979\n",
              "\n",
              "[5 rows x 12 columns]"
            ]
          },
          "metadata": {
            "tags": []
          },
          "execution_count": 31
        }
      ]
    },
    {
      "cell_type": "code",
      "metadata": {
        "colab": {
          "base_uri": "https://localhost:8080/"
        },
        "id": "Lhm0d_yAlk96",
        "outputId": "193460d5-a0ef-4223-d5d6-ccec3037bcb5"
      },
      "source": [
        "r2_score(temp[\"age\"], temp[\"age_imputed\"])"
      ],
      "execution_count": 32,
      "outputs": [
        {
          "output_type": "execute_result",
          "data": {
            "text/plain": [
              "0.25760977146668074"
            ]
          },
          "metadata": {
            "tags": []
          },
          "execution_count": 32
        }
      ]
    }
  ]
}